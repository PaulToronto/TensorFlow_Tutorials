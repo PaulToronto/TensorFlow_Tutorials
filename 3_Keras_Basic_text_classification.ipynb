{
  "nbformat": 4,
  "nbformat_minor": 0,
  "metadata": {
    "colab": {
      "provenance": [],
      "toc_visible": true,
      "authorship_tag": "ABX9TyN1bfxPba+eXrmCSxx5Tq9P",
      "include_colab_link": true
    },
    "kernelspec": {
      "name": "python3",
      "display_name": "Python 3"
    },
    "language_info": {
      "name": "python"
    }
  },
  "cells": [
    {
      "cell_type": "markdown",
      "metadata": {
        "id": "view-in-github",
        "colab_type": "text"
      },
      "source": [
        "<a href=\"https://colab.research.google.com/github/PaulToronto/TensorFlow_Tutorials/blob/main/3_Keras_Basic_text_classification.ipynb\" target=\"_parent\"><img src=\"https://colab.research.google.com/assets/colab-badge.svg\" alt=\"Open In Colab\"/></a>"
      ]
    },
    {
      "cell_type": "markdown",
      "source": [
        "# Keras - Basic text classification\n",
        "\n",
        "- https://tinyurl.com/42fab6rw"
      ],
      "metadata": {
        "id": "CE_fc6BmfKTl"
      }
    },
    {
      "cell_type": "markdown",
      "source": [
        "## Imports"
      ],
      "metadata": {
        "id": "sqW3OxOhfmhd"
      }
    },
    {
      "cell_type": "code",
      "execution_count": 1,
      "metadata": {
        "id": "GlgVcindfF02"
      },
      "outputs": [],
      "source": [
        "import tensorflow as tf\n",
        "\n",
        "import os\n",
        "from textwrap import wrap\n",
        "import shutil"
      ]
    },
    {
      "cell_type": "markdown",
      "source": [
        "## The IMDB dataset\n",
        "\n",
        "- this notebook trains a sentiment analysis model to classify reviews as either *positive* or *negative* based on the text of the review\n",
        "- this is a binary classification problem\n",
        "- dataset source: https://ai.stanford.edu/%7Eamaas/data/sentiment/\n",
        "    - 50,000 movie reviews from the Internet Movie Database\n",
        "    - Split into 25,000 for training and 25,0000 for testing\n",
        "    - The training and testing sets are **balanced**, meaning they contain and equal number of positive and negative reviews\n"
      ],
      "metadata": {
        "id": "biLZa3AMfov4"
      }
    },
    {
      "cell_type": "code",
      "source": [
        "url = 'https://ai.stanford.edu/~amaas/data/sentiment/aclImdb_v1.tar.gz'\n",
        "\n",
        "dataset = tf.keras.utils.get_file(fname='aclImdb_v1',\n",
        "                                  origin=url,\n",
        "                                  untar=True,\n",
        "                                  cache_dir='.',\n",
        "                                  cache_subdir='')\n",
        "\n",
        "dataset_dir = os.path.join(os.path.dirname(dataset), 'aclImdb')"
      ],
      "metadata": {
        "id": "Pi29mThTgjAI"
      },
      "execution_count": 2,
      "outputs": []
    },
    {
      "cell_type": "code",
      "source": [
        "type(dataset), dataset"
      ],
      "metadata": {
        "colab": {
          "base_uri": "https://localhost:8080/"
        },
        "id": "YZSSeZp3hgHt",
        "outputId": "8580995c-a8e9-405d-936f-b5455b8d6f2c"
      },
      "execution_count": 3,
      "outputs": [
        {
          "output_type": "execute_result",
          "data": {
            "text/plain": [
              "(str, './aclImdb_v1')"
            ]
          },
          "metadata": {},
          "execution_count": 3
        }
      ]
    },
    {
      "cell_type": "code",
      "source": [
        "type(dataset_dir), dataset_dir"
      ],
      "metadata": {
        "colab": {
          "base_uri": "https://localhost:8080/"
        },
        "id": "knZSQ5MbiVk8",
        "outputId": "da504a8b-331d-474f-8c2f-2e82d9a0aab4"
      },
      "execution_count": 4,
      "outputs": [
        {
          "output_type": "execute_result",
          "data": {
            "text/plain": [
              "(str, './aclImdb')"
            ]
          },
          "metadata": {},
          "execution_count": 4
        }
      ]
    },
    {
      "cell_type": "code",
      "source": [
        "os.listdir(dataset_dir)"
      ],
      "metadata": {
        "colab": {
          "base_uri": "https://localhost:8080/"
        },
        "id": "D9UxjFIek6nN",
        "outputId": "8bca3767-686b-400b-fcad-c105f371e3c0"
      },
      "execution_count": 5,
      "outputs": [
        {
          "output_type": "execute_result",
          "data": {
            "text/plain": [
              "['imdbEr.txt', 'README', 'train', 'test', 'imdb.vocab']"
            ]
          },
          "metadata": {},
          "execution_count": 5
        }
      ]
    },
    {
      "cell_type": "code",
      "source": [
        "train_dir = os.path.join(dataset_dir,'train')\n",
        "train_dir"
      ],
      "metadata": {
        "colab": {
          "base_uri": "https://localhost:8080/",
          "height": 35
        },
        "id": "33cURcwApiOR",
        "outputId": "7c331b8c-23a4-4081-e1c9-565df2959191"
      },
      "execution_count": 6,
      "outputs": [
        {
          "output_type": "execute_result",
          "data": {
            "text/plain": [
              "'./aclImdb/train'"
            ],
            "application/vnd.google.colaboratory.intrinsic+json": {
              "type": "string"
            }
          },
          "metadata": {},
          "execution_count": 6
        }
      ]
    },
    {
      "cell_type": "code",
      "source": [
        "os.listdir(train_dir)"
      ],
      "metadata": {
        "colab": {
          "base_uri": "https://localhost:8080/"
        },
        "id": "FrAfotwGp7-o",
        "outputId": "5f021211-c668-4314-a8bd-7002c11c3d3c"
      },
      "execution_count": 7,
      "outputs": [
        {
          "output_type": "execute_result",
          "data": {
            "text/plain": [
              "['neg',\n",
              " 'unsupBow.feat',\n",
              " 'labeledBow.feat',\n",
              " 'pos',\n",
              " 'unsup',\n",
              " 'urls_neg.txt',\n",
              " 'urls_unsup.txt',\n",
              " 'urls_pos.txt']"
            ]
          },
          "metadata": {},
          "execution_count": 7
        }
      ]
    },
    {
      "cell_type": "markdown",
      "source": [
        "The `./aclImdb/train/neg` and `./aclImdb/train/pos` directories contain many text files, each of which is a single movie review."
      ],
      "metadata": {
        "id": "WsksPHllqL5y"
      }
    },
    {
      "cell_type": "code",
      "source": [
        "# looking at one of those files\n",
        "sample_pos_file = os.path.join(train_dir, 'pos/1181_9.txt')\n",
        "with open(sample_pos_file) as f:\n",
        "    text = f.read()\n",
        "\n",
        "wrap(text)"
      ],
      "metadata": {
        "colab": {
          "base_uri": "https://localhost:8080/"
        },
        "id": "yM9ltjN8qVy-",
        "outputId": "050219a9-e5da-490f-9e41-00a12e350081"
      },
      "execution_count": 8,
      "outputs": [
        {
          "output_type": "execute_result",
          "data": {
            "text/plain": [
              "['Rachel Griffiths writes and directs this award winning short film. A',\n",
              " 'heartwarming story about coping with grief and cherishing the memory',\n",
              " \"of those we've loved and lost. Although, only 15 minutes long,\",\n",
              " 'Griffiths manages to capture so much emotion and truth onto film in',\n",
              " 'the short space of time. Bud Tingwell gives a touching performance as',\n",
              " \"Will, a widower struggling to cope with his wife's death. Will is\",\n",
              " 'confronted by the harsh reality of loneliness and helplessness as he',\n",
              " \"proceeds to take care of Ruth's pet cow, Tulip. The film displays the\",\n",
              " 'grief and responsibility one feels for those they have loved and lost.',\n",
              " 'Good cinematography, great direction, and superbly acted. It will',\n",
              " 'bring tears to all those who have lost a loved one, and survived.']"
            ]
          },
          "metadata": {},
          "execution_count": 8
        }
      ]
    },
    {
      "cell_type": "code",
      "source": [
        "sample_neg_file = os.path.join(train_dir, 'neg/10008_2.txt')\n",
        "with open(sample_neg_file) as f:\n",
        "    text = f.read()\n",
        "\n",
        "wrap(text)"
      ],
      "metadata": {
        "colab": {
          "base_uri": "https://localhost:8080/"
        },
        "id": "NqTGFWboq22O",
        "outputId": "6be7ce9e-4c42-4049-cd7a-13d3b1930a05"
      },
      "execution_count": 9,
      "outputs": [
        {
          "output_type": "execute_result",
          "data": {
            "text/plain": [
              "['The film is bad. There is no other way to say it. The story is weak',\n",
              " \"and outdated, especially for this country. I don't think most people\",\n",
              " 'know what a \"walker\" is or will really care. I felt as if I was',\n",
              " \"watching a movie from the 70's. The subject was just not believable\",\n",
              " 'for the year 2007, even being set in DC. I think this rang true for',\n",
              " 'everyone else who watched it too as the applause were low and quick at',\n",
              " \"the end. Most didn't stay for the Q&A either.<br /><br />I don't think\",\n",
              " 'Schrader really thought the film out ahead of time. Many of the scenes',\n",
              " 'seemed to be cut short as if they were never finished or he just',\n",
              " \"didn't know how to finish them. He jumped from one scene to the next\",\n",
              " 'and you had to try and figure out or guess what was going on. I really',\n",
              " \"didn't get Woody's (Carter) private life or boyfriend either. What\",\n",
              " 'were all the \"artistic\" male bondage and torture pictures (from Iraq',\n",
              " 'prisons) about? What was he thinking? I think it was his very poor',\n",
              " 'attempt at trying to create this dark private subculture life for',\n",
              " \"Woody's character (Car). It didn't work. It didn't even seem to make\",\n",
              " 'sense really.<br /><br />The only good thing about this film was Woody',\n",
              " 'Harrelson. He played his character (Car) flawlessly. You really did',\n",
              " 'get a great sense of what a \"walker\" may have been like (say twenty',\n",
              " 'years ago). He was great and most likely will never get recognized for',\n",
              " 'it. <br /><br />As for Lauren, Lily and Kristin... Boring.<br /><br',\n",
              " \"/>Don't see it! It is painful! Unless you are a true Harrelson fan.\"]"
            ]
          },
          "metadata": {},
          "execution_count": 9
        }
      ]
    },
    {
      "cell_type": "markdown",
      "source": [
        "### Load the dataset"
      ],
      "metadata": {
        "id": "cnJSn-pHssVX"
      }
    },
    {
      "cell_type": "markdown",
      "source": [
        "To do this, the `text_dataset_from_directory` utility is used. This utility exepcts a directory structure as follows:\n",
        "\n",
        "```python\n",
        "main_directory/\n",
        "...class_a/\n",
        "......a_text_1.txt\n",
        "......a_text_2.txt\n",
        "...class_b/\n",
        "......b_text_1.txt\n",
        "......b_text_2.txt\n",
        "```"
      ],
      "metadata": {
        "id": "IguiPQxQs9C9"
      }
    },
    {
      "cell_type": "code",
      "source": [
        "# 3 of these are folders: 'neg', 'pos' and 'unsup'\n",
        "os.listdir(train_dir)"
      ],
      "metadata": {
        "colab": {
          "base_uri": "https://localhost:8080/"
        },
        "id": "yXhlSGYNtTEc",
        "outputId": "bec0f776-83a4-43e9-f98a-2fc8439da010"
      },
      "execution_count": 10,
      "outputs": [
        {
          "output_type": "execute_result",
          "data": {
            "text/plain": [
              "['neg',\n",
              " 'unsupBow.feat',\n",
              " 'labeledBow.feat',\n",
              " 'pos',\n",
              " 'unsup',\n",
              " 'urls_neg.txt',\n",
              " 'urls_unsup.txt',\n",
              " 'urls_pos.txt']"
            ]
          },
          "metadata": {},
          "execution_count": 10
        }
      ]
    },
    {
      "cell_type": "markdown",
      "source": [
        "To prepare a dataset for binary classification, we need two folders, corrsponding to `class_a` and `class_b` above, so we want to get rid of `unsup`"
      ],
      "metadata": {
        "id": "-8o7PaXSuZRa"
      }
    },
    {
      "cell_type": "code",
      "source": [
        "remove_dir = os.path.join(train_dir, 'unsup')\n",
        "remove_dir"
      ],
      "metadata": {
        "colab": {
          "base_uri": "https://localhost:8080/",
          "height": 35
        },
        "id": "VMj3Zu-ouyRR",
        "outputId": "314901fe-9c53-4175-b41c-fb0ea8973590"
      },
      "execution_count": 11,
      "outputs": [
        {
          "output_type": "execute_result",
          "data": {
            "text/plain": [
              "'./aclImdb/train/unsup'"
            ],
            "application/vnd.google.colaboratory.intrinsic+json": {
              "type": "string"
            }
          },
          "metadata": {},
          "execution_count": 11
        }
      ]
    },
    {
      "cell_type": "code",
      "source": [
        "# shutil recursively deletes a directory \"tree\"\n",
        "shutil.rmtree(remove_dir)"
      ],
      "metadata": {
        "id": "fF1UZbgYvAkk"
      },
      "execution_count": 12,
      "outputs": []
    },
    {
      "cell_type": "code",
      "source": [
        "os.listdir(train_dir)"
      ],
      "metadata": {
        "colab": {
          "base_uri": "https://localhost:8080/"
        },
        "id": "vdZZmby1vmzT",
        "outputId": "b4bf7b97-5a81-41ce-9e2c-e3025480c900"
      },
      "execution_count": 13,
      "outputs": [
        {
          "output_type": "execute_result",
          "data": {
            "text/plain": [
              "['neg',\n",
              " 'unsupBow.feat',\n",
              " 'labeledBow.feat',\n",
              " 'pos',\n",
              " 'urls_neg.txt',\n",
              " 'urls_unsup.txt',\n",
              " 'urls_pos.txt']"
            ]
          },
          "metadata": {},
          "execution_count": 13
        }
      ]
    },
    {
      "cell_type": "markdown",
      "source": [
        "The IMDB dataset has already been divided into train and test, but it lacks a validation set. Let's create a validation set using an 80:20 split of the training data by using the `validation_split` argument below."
      ],
      "metadata": {
        "id": "DYbFdOOsyLYI"
      }
    },
    {
      "cell_type": "code",
      "source": [
        "batch_size = 32\n",
        "seed = 42       # optional seed for random shuffling\n",
        "# note, the `shuffle` parameter defaults to True\n",
        "\n",
        "raw_train_ds = tf.keras.utils.text_dataset_from_directory(\n",
        "    'aclImdb/train',\n",
        "    batch_size=batch_size,\n",
        "    validation_split=0.2,\n",
        "    subset='training',\n",
        "    seed=seed\n",
        ")"
      ],
      "metadata": {
        "colab": {
          "base_uri": "https://localhost:8080/"
        },
        "id": "nJoQ9pDKwGty",
        "outputId": "44b63f4c-7476-4d42-8bb2-f1f3efe0646d"
      },
      "execution_count": 59,
      "outputs": [
        {
          "output_type": "stream",
          "name": "stdout",
          "text": [
            "Found 25000 files belonging to 2 classes.\n",
            "Using 20000 files for training.\n"
          ]
        }
      ]
    },
    {
      "cell_type": "code",
      "source": [
        "type(raw_train_ds)"
      ],
      "metadata": {
        "colab": {
          "base_uri": "https://localhost:8080/",
          "height": 121
        },
        "id": "w9vpk_xtwtxk",
        "outputId": "f7675652-5aa6-4935-a7bf-04b39909feed"
      },
      "execution_count": 22,
      "outputs": [
        {
          "output_type": "execute_result",
          "data": {
            "text/plain": [
              "tensorflow.python.data.ops.prefetch_op._PrefetchDataset"
            ],
            "text/html": [
              "<div style=\"max-width:800px; border: 1px solid var(--colab-border-color);\"><style>\n",
              "      pre.function-repr-contents {\n",
              "        overflow-x: auto;\n",
              "        padding: 8px 12px;\n",
              "        max-height: 500px;\n",
              "      }\n",
              "\n",
              "      pre.function-repr-contents.function-repr-contents-collapsed {\n",
              "        cursor: pointer;\n",
              "        max-height: 100px;\n",
              "      }\n",
              "    </style>\n",
              "    <pre style=\"white-space: initial; background:\n",
              "         var(--colab-secondary-surface-color); padding: 8px 12px;\n",
              "         border-bottom: 1px solid var(--colab-border-color);\"><b>tensorflow.python.data.ops.prefetch_op._PrefetchDataset</b><br/>def __init__(input_dataset, buffer_size, slack_period=None, name=None)</pre><pre class=\"function-repr-contents function-repr-contents-collapsed\" style=\"\"><a class=\"filepath\" style=\"display:none\" href=\"#\">/usr/local/lib/python3.10/dist-packages/tensorflow/python/data/ops/prefetch_op.py</a>A `Dataset` that asynchronously prefetches its input.</pre>\n",
              "      <script>\n",
              "      if (google.colab.kernel.accessAllowed && google.colab.files && google.colab.files.view) {\n",
              "        for (const element of document.querySelectorAll('.filepath')) {\n",
              "          element.style.display = 'block'\n",
              "          element.onclick = (event) => {\n",
              "            event.preventDefault();\n",
              "            event.stopPropagation();\n",
              "            google.colab.files.view(element.textContent, 31);\n",
              "          };\n",
              "        }\n",
              "      }\n",
              "      for (const element of document.querySelectorAll('.function-repr-contents')) {\n",
              "        element.onclick = (event) => {\n",
              "          event.preventDefault();\n",
              "          event.stopPropagation();\n",
              "          element.classList.toggle('function-repr-contents-collapsed');\n",
              "        };\n",
              "      }\n",
              "      </script>\n",
              "      </div>"
            ]
          },
          "metadata": {},
          "execution_count": 22
        }
      ]
    },
    {
      "cell_type": "markdown",
      "source": [
        "You can train a model by passing the dataset directly into the `model.fit()` method. First let's have a look at the data."
      ],
      "metadata": {
        "id": "8Pi9-kkOybp2"
      }
    },
    {
      "cell_type": "code",
      "source": [
        "test = raw_train_ds.take(1)\n",
        "\n",
        "for a, b in test:\n",
        "    print(type(a))\n",
        "    print(type(b))"
      ],
      "metadata": {
        "colab": {
          "base_uri": "https://localhost:8080/"
        },
        "id": "xMHw0xdayw-d",
        "outputId": "8b47da2d-c59a-425b-84c2-9e645443c559"
      },
      "execution_count": 63,
      "outputs": [
        {
          "output_type": "stream",
          "name": "stdout",
          "text": [
            "<class 'tensorflow.python.framework.ops.EagerTensor'>\n",
            "<class 'tensorflow.python.framework.ops.EagerTensor'>\n"
          ]
        }
      ]
    },
    {
      "cell_type": "code",
      "source": [
        "for a, b in test:\n",
        "    print(a.numpy())\n",
        "    print(len(a.numpy()))       # batch size\n",
        "    print('\\n______________\\n')\n",
        "    print(b.numpy())\n",
        "    print(len(b.numpy()))       # batch size"
      ],
      "metadata": {
        "colab": {
          "base_uri": "https://localhost:8080/"
        },
        "id": "dH6Wvpm5z0CI",
        "outputId": "44293458-02db-4b74-fa3a-ffc4c696756a"
      },
      "execution_count": 62,
      "outputs": [
        {
          "output_type": "stream",
          "name": "stdout",
          "text": [
            "[b'Silent Night, Deadly Night 5 is the very last of the series, and like part 4, it\\'s unrelated to the first three except by title and the fact that it\\'s a Christmas-themed horror flick.<br /><br />Except to the oblivious, there\\'s some obvious things going on here...Mickey Rooney plays a toymaker named Joe Petto and his creepy son\\'s name is Pino. Ring a bell, anyone? Now, a little boy named Derek heard a knock at the door one evening, and opened it to find a present on the doorstep for him. Even though it said \"don\\'t open till Christmas\", he begins to open it anyway but is stopped by his dad, who scolds him and sends him to bed, and opens the gift himself. Inside is a little red ball that sprouts Santa arms and a head, and proceeds to kill dad. Oops, maybe he should have left well-enough alone. Of course Derek is then traumatized by the incident since he watched it from the stairs, but he doesn\\'t grow up to be some killer Santa, he just stops talking.<br /><br />There\\'s a mysterious stranger lurking around, who seems very interested in the toys that Joe Petto makes. We even see him buying a bunch when Derek\\'s mom takes him to the store to find a gift for him to bring him out of his trauma. And what exactly is this guy doing? Well, we\\'re not sure but he does seem to be taking these toys apart to see what makes them tick. He does keep his landlord from evicting him by promising him to pay him in cash the next day and presents him with a \"Larry the Larvae\" toy for his kid, but of course \"Larry\" is not a good toy and gets out of the box in the car and of course, well, things aren\\'t pretty.<br /><br />Anyway, eventually what\\'s going on with Joe Petto and Pino is of course revealed, and as with the old story, Pino is not a \"real boy\". Pino is probably even more agitated and naughty because he suffers from \"Kenitalia\" (a smooth plastic crotch) so that could account for his evil ways. And the identity of the lurking stranger is revealed too, and there\\'s even kind of a happy ending of sorts. Whee.<br /><br />A step up from part 4, but not much of one. Again, Brian Yuzna is involved, and Screaming Mad George, so some decent special effects, but not enough to make this great. A few leftovers from part 4 are hanging around too, like Clint Howard and Neith Hunter, but that doesn\\'t really make any difference. Anyway, I now have seeing the whole series out of my system. Now if I could get some of it out of my brain. 4 out of 5.'\n",
            " b\"This Italian film from the '70's is NOT even in the class with Dog Soldiers, The Howling, or even that awful American Werewolf in Paris, BUT...it is fun to watch. I'm talking about watching the lead actress, a stunning blonde, run amok in her birthday suit. We're talking about graphic, complete nudity...it's obvious that she is a real blonde...humma humma humma!! The story is a hoot, the SFX are childish, and the acting (for the most part) stinks. The only redeeming value of this movie is all (and there is a LOT) the nudity & sex scenes. Tame by HBO standards, but still fun to see when you find yourself without a date on Saturday night. OK...HERE'S THE SPOILER...There is NO werewolf (except in the opening scene of the heroine(??)'s ancestor. The girl just imagines that she's a werewolf...in other words, a clinical Lycanthrope.\"\n",
            " b'Mr Perlman gives a standout performance (as usual). Sadly, he has to struggle with an underwritten script and some nonsensical set pieces.<br /><br />Larsen is in \"Die Hard\" mode complete with singlet and bulging muscles, I\\'m sure he could do better but seems satisfied to grimace and snarl through his part.<br /><br />The lovely Erika is very decorative (even though fully clothed!) and shows some signs of \"getting\" acting at last.<br /><br />SFX are mainly poor CGI and steals from other movies.<br /><br />The shootouts are pitiful - worthy of the A-Team<br /><br />Not even worth seeing for Perlman - AVOID'\n",
            " b\"I'm a Christian who generally believes in the theology taught in Left Behind. That being said, I think Left Behind is one of the worst films I've seen in some time.<br /><br />To have a good movie, you need to have a well-written screenplay. Left Behind fell woefully short on this. For one thing, it radically deviates from the book. Sometimes this is done to condense a 400-page novel down to a two-hour film, but in this film I saw changes that made no sense whatsoever.<br /><br />Another thing, there is zero character development. When characters in the story get saved (I won't say who), the book makes it clear that it's a long, soul-searching process. In the film it's quick and artificial. The book is written decently enough where people like Rayford Steele, Buck Williams and Hattie Durham seem real, but in the movie scenarios are consistently given the quick treatment without anything substantial. In another scene where one character gets angry about being left behind (again, I won't say who), it seems artificial.<br /><br />I realize as a Christian it's unedifying for me to say I disliked this film, but I can't in a good conscience recommend a film that I feel was horribly done. Perhaps it would've been better to make the first book into 2-3 films. Either way, Christians need to realize that to be taken seriously as filmmakers, we need to start by putting together a film in a quality way. I realize a lot of effort probably went into Left Behind, but that's the way I see it.\"\n",
            " b'The Forest isn\\'t just your everyday standard slasher/backwoods cannibal fare, it also has an interesting mix of supernatural elements as well. The story is about two couples that hike into the forest on a camping trip. A cave dwelling, cannibalistic woodsmen and the ghosts of his dead wife and two children soon terrorize them. There is something you don\\'t see every slasher. Director Don Jones gets an \"A\" for effort although the film itself falls flat on just about every level, the acting is just simply average except for Jeanette Kelly who plays the dead wife of the woodsman (Michael Brody aka Gary Kent).<br /><br />The film opens with some beautiful shots of a couple hiking through a valley and into a forest. They realize too late that someone is stalking them. They are both dispatched in typical slasher fare. Our killer uses a trusty hunting knife throughout the entire film, except during a flashback when he implements a handsaw, pitchfork and rusty saw blade to dispatch his cheating wife\\'s lover.<br /><br />The Forest has a good story line but the movie just doesn\\'t work along with it I found it pretty boring with simply crappy acting. 4/10'\n",
            " b'Well, if you like pop/punk, punk, ska, and a tad bit of modern psycho billy, then seeing the live performances are about the only thing worth watching. This movie has tons and tons of band cameos, along with president of Troma, Lloyd Kaufman as a semi-major role, and lots of goofy death scenes. Sounds like it may be good, right? Well, the deaths keep coming, and repeatedly to many different bands of the Warp Tour and the fans at the event. Some of the deaths start of stylish, but then they are recycled over and over, to the point of being completely repetitive. Almost everyone dies of having their head smashed, or intestines being pulled from their stomach. The gore looks as if it was from Andreas Schnaas\\' \"Zombie 90: Extreme Pestilence\"; with this being the \"watered-down type blood\", but now that movie is actually decent, and provides humor-something that this movie terribly lacks. Sure, the movie is made by Doug Sakmann from Troma, it\\'s got great low-budget potential, and it tries...but just too hard. Everything is overly meant to be funny in this movie, and thats what brings it down. Everything tries to be too comic and goofy, by using intentional bad acting, an overuse of pointless deaths, and doing the same thing...over and over. It\\'s basically \"Mulva: Zombie Ass-Kicker\", \"Chairman of the Board\", or any movie you have made with your friends: it\\'s funny to those who made it, and that\\'s about it.<br /><br />Great potential, great idea, great use of effects-but it\\'s the same thing...over and over: A band plays, a band dies, fans die. Everyone dies, blood is sprayed everywhere, the process is repeated.<br /><br />The question is for these types of movies-which is basically \\'bad slap-stick\\'-do they try too hard, or not at all?'\n",
            " b\"I LOVE the Doodlebops. My son has been watching them for over a year. We went to the Doodlebops concert last year as well as one concert yesterday (connecticut). He LOVES them. The doodlebops do not teach the alphabet or numbers but who cares? are you being serious? the TV isn't suppose to teach your children about numbers or the alphabet. the parents should. Get over it. The Doodlebops actually CAN sing. Deedee has a beautiful voice and in concert you can tell all 3 of them have nice singing voices and do NOT lip sing. Imagine, they dance, jump around and STILL sing. they have talent, the kids love them i even enjoy watching the show. This show is by far the best show on TV for kids. AND a rock band for children. How amazing is that? Why are people saying Chad (rooney) is gay? where did you hear that from? Whether he is or not, He is awesome! Leave him alone. Its not like he or anyone else is promoting homosexuality to our children!\"\n",
            " b\"I'm a huge Steven Seagal fan. Hell, I probably weigh as much as he does although I don't have the street cred to sport the frizzy-mullet-ponytail. Having stated my own bias and affection for America's favorite corpulent stage and screen hero, it is with a heavy heart that I must declare this to be his worst movie ever. I'm not sure he could make a movie any worse than this.<br /><br />In his defense the major problems with this film seem to occur in post-production. It's painfully obvious that this movie was supposed to have a different storyline. That results in woeful voiceovers in which Steve's voice doesn't nearly sync up with that of the dubbed voice. The editing is pisspoor and overall this starts bad, gets even worse, and by the end you'll wish you had rewatched The Da Vinci Code instead. Yes, it's that bad.<br /><br />After this I don't know what to expect from Steve. My friends still laugh at me for listening to his CDs. Is it time I start checking out some of the Van Damme direct to DVD nutty logs? If you are tempted to watch this movie, rip your eyeballs out and flush them down the toilet. A lifetime of darkness is better than 89 minutes of this.\"\n",
            " b'Although recognized as the best film treatment of the difficulties of having a house in the country built (or bought) to your specifications, it is not the first, nor the last. In 1940 Jack Benny and Ann Sheridan were the leads in the film version of the comedy GEORGE WASHINGTON SLEPT HERE by George S. Kaufman and Moss Hart. And about fifteen years ago Shelly Long and Tom Hanks had the lead in THE MONEY PIT. The former was about moving into an 18th Century country house that...err, needs work. The latter was about building your dream house - in the late 1980s. Although the two films have their moments, both are not as good as BLANDINGS, which was based on an autobiographical novel of the same name.<br /><br />Jim Blandings and his wife Muriel (Cary Grant and Myrna Loy) are noticing the tight corners of their apartment, which they share with their two daughters Joan and Betsy (Sharyn Moffett and Connie Marshall). Although Blandings has a good income as an advertising executive (in 1948 he is making $15,000.00 a year, which was like making $90,000.00 today), and lives in a luxury apartment - which in the New York City of that day he rents! - he feels they should seek something better. He and Muriel take a drive into the country (Connecticut) and soon find an old ruin that both imagine can be fixed up as that dream house they want.<br /><br />And they both fall into the financial worm hole that buying land and construction can lead to. For one thing, they are so gung ho about the idea of building a home like this they fail to heed warning after warning by their wise, if cynical friend and lawyer Bill Cole (Melvin Douglas, in a nicely sardonic role). For example, Jim buys land from a Connecticut dealer (Ian Wolfe, sucking his chops quietly), with a check before double checking the correct cost for the land in that part of Connecticut. Bill points out he\\'s paid about five or six thousand dollars more for the land than it is worth. There are problems about water supply that both Blandings just never think about, such as hard and soft water - which leads to the Zis - Zis Water softening machine. They find that the designs they have in mind, and have worked out with their architect (Reginald Denny), can\\'t be dropped cheaply at a spur of the moment decision by Muriel to build a little rookery that nobody planned for. <br /><br />The escalating costs of the project are one matter that bedevils Jim. He has been appointed to handle the \"Wham\" account (\"Spam\" had become a popular result of World War II, in that the public started using it as a meat substitute, in the light of it\\'s success with the armed forces). Jim can\\'t get a grip on this (he\\'s not alone - one or two other executives fumbled it before him). He comes up with the following bit of \"poetry\"(?):<br /><br />\"This little piggy went to market,<br /><br />He was pink and as pretty as ham.<br /><br />He smiled in his tracks,<br /><br />As they gave him the ax -<br /><br />He knew he would end up as \"Wham\"!\"<br /><br />His Secretary looks at him as though he needs a straight jacket when he reads that one!<br /><br />Jim also is increasingly suspicious of the attentions of Bill to Muriel, although (in this case) Bill is blameless. But he\\'s always around (Jim keeps forgetting that Bill is the clearheaded one, and that he\\'s keeping Jim and Muriel from making so many mistakes). All three have mishaps, the best being when they get locked in a room in the half constructed house, just as the men have left for the day. They can\\'t open the door, and Jim (in a panic) tries breaking the door down by a make-shift battering ram. He breaks a window, and the door opens by itself.<br /><br />The film works quite satisfactorily, with all of the actors apparently enjoying themselves. It is one film which (despite changing price levels and salary levels) really does not age at all. After all, most Americans dream of owning their own home and always have.<br /><br />A number of years ago a paint company made use of a delightful scene with Myrna Loy and Emory Parnell regarding the paint job Parnell\\'s company has to do on the various rooms. She carefully shows the distinct shades of red, blue, etc. she wants - even giving a polite Parnell a single thread for the right shade of blue. The commercials hinted that the paint company had a wide variety of colors to choose from for your paint job. They proudly called Loy \"Mrs. Blandings\" in the commercials\\' introduction. You can imagine though how the no-nonsense Parnell handles the situation afterward, when Loy leaves him with his paint crew.'\n",
            " b\"Considering John Doe apparently inspired Kyle XY's creator I was expecting its pilot to be quite interesting. However I probably had too high expectations because I was quite disappointed by it. First they turned the protagonist into a freak who had the crazy idea of showing off his amazing knowledge in front of an audience, in a public area. So after that scene I began to worry that it was just entertainment. But the problem is that it got worse as none of the other characters were properly introduced. They focused too much on John Doe which made the story far less intriguing. I was also slightly disappointed by Dominic Purcell's performance because I found he didn't make a believable John Doe. An other problem was the police story. It really felt like d\\xc3\\xa9j\\xc3\\xa0 vu and it wasn't a pleasant sensation. It leads us to the worst issue in the bunch, the episodic format. I could already see the fillers coming one after an other.<br /><br />So overall I was very disappointed by it and don't recommend it to anyone. Considering how bad it was I better understand now why the show got canceled. In some way I have the impression that it missed its target, developing characters to help the protagonist find his own identity. It's sad because there was potential, like the people he met at the club. The production quality was also quite good and the casting correct. But I'll never know if it got better, probably not, because I don't plan to watch the next episode.\"\n",
            " b'The movie \"Atlantis: The Lost Empire\" is a shining gem in the rubble of films produced by the Disney Studios recently. Parents who have had to sit through \"The Jungle Book 2\" or even a Pokemon movie will surely appreciate this one.<br /><br />The film is one of few to attempt at an original story; previous feature films were merely re tellings of existing stories. Films such as \"Toy Story\", \"Finding Nemo\", and \"Monsters Inc.\" all do the same, but it must be noted that all were made by Pixar and only distributed by Disney. Recent films from the Disney Studios are mostly released direct to video, and are sequels to an existing successful film. The quality of those films is given way to the profitability. A new era started with \"Atlantis\" following it were \"Mulan\", \"Lilo & Stitch\", and most recently \"Open Range\". The writers have created all original story lines instead of the fairy tales of the past.<br /><br />A good portion of the movie is devoted to the quest to find Atlantis, a task that has captured the imagination of many for hundreds of years. Including that of young Milo Thatch, voiced by Michael J. Fox. Milo is employed by a museum in Washington D.C.. His grandfather was a renowned archaeologist, who had devoted his life to discovering Atlantis. This was seen as a waste by his peers, and they wish Milo to not follow in his footsteps. After failing to convince the museum board of directors to sponsor his expedition, Milo comes home to find a woman in his darkened apartment. She takes him to her employer, a Mr. Whitmore. Whitmore was a close friend of Milo\\'s grandfather, and wishes to send Milo with a team to locate Atlantis. Mr. Whitmore is very wealth and has paid for the best of everything. The crew that is to accompany him is the same as his grandfathers. The journey is filled with many great obstacles to overcome and is great fun to watch. The viewer finds themselves caught up in if they will reach Atlantis. The plot takes an unexpected turn after the discovery Atlantis, not just the discovery of people. It is enough to keep the interest of the older audience.<br /><br />The animators have done a wonderful job in then depth of the animation. The movie is very successful in blending traditional animation with Computer Generated Images. A feat not easily achieved, most audiences are quick to notice the difference in the two. The characters are believably human. There are some nice chase type scenes, with lots of action going on. A few lulls are filled with jokes that the children just may not get.<br /><br />The creativity of the writers really shines through. The culture of Atlantis is richly developed, including an entire language. The film uses references to Atlantis from historical sources, such as Plato. The disappearance of Atlantis from the world is explained. Believable, if by a younger audience, that magic really does exist. The powers of the people of Atlantis are not exactly presented as magic, but can best be described in this way.<br /><br />Although set in 1914 the level of technology used is unrealistic. The voyage is in a submarine very reminiscent of Captain Nemo\\'s nautilus, complete with sub pods that fire torpedoes. The giant diggers are driven by steam boilers so they did try for some era technology. The female characters are empowered in a way that women of the age would not have been, even holding roles in leadership. This is not a bad thing. It gives a good role model for my daughter to look to, rather than an all male cast.<br /><br />One reason this film is a favorite of mine over other Disney films is that there is not one single song, ever. A tradition that began with the first feature film, \"Snow White\", and carried on through to \"The Lion King\", almost every Disney film is full of upbeat songs. This is great and all, what would the Seven Dwarfs be without \"Hi HO!\"? After the millionth time through it\\'d almost be better without, but this one spares the parent. Not once does every single person on the screen suddenly know the words to a song that no one has ever heard before and break out in song. I for one am grateful.<br /><br />The storyline and depth of animation is sure to keep the attention of both parent and child alike. It is a film I am willing to watch again and again with my children.'\n",
            " b\"Someone must have been seriously joking when they made this film.<br /><br />Firstly, it is an absolute impossibility that this movie was made in 1993. The fashions and music dictate that this is seriously 80's. My guess is that this has sat on the shelf for a long while before some crazed distributer picked it up and released it to a disbelieving world.<br /><br />There is a plot. Kind of. A strange loner meets a random man with a beard who tells him that if he meditates while singing his favourite song he will be able to turn into whomever he chooses. At this point I feel obliged to point out that the loner's favourite song is London Bridge Is Falling Down. Why is this his favourite song? Because he's an idiot. We are only a minute into the film and already the film has reached a monumental level of stupidity. It gets even stupider.<br /><br />The loner is the nostril picker. I can only assume this as there are two scenes in the film where he is seen picking his nose. That clears up the title. He decides to change into a girl so that he can get close to other girls. And kill them. That's more or less it.<br /><br />The acting is universally appalling. Every single performance in this movie sucks. In fact, I would go so far as to say that the acting is of the standard of a pornographic movie. It really is that terrible. The nostril picker appears to the audience as the nostril picker. The characters in the movie see him as the girl he has become through singing London Bridge Is Falling Down. Man, I feel like an idiot even typing this. Anyway, it is kind of strange seeing a middle aged weirdo hanging out with school girls. And not in a good way. There is even an extended montage of scenes where the nostril picker is at school with the girls and a song plays over the top. It is very possibly the worst song ever recorded. I'm not even going to describe it. You'll know it when you hear it. And you'll agree with me.<br /><br />There are some scenes of violence, sure. And there is a Benny Hill style chase sequence involving a transsexual. There is even an immortal bit of dialogue, that may or may not have been taken from Shakespeare or John Milton, where the nostril picker says to a prostitute, 'I've got the cash if you've got the gash'. Lovely, I'm sure you'll agree.<br /><br />Utter nonsense.\"\n",
            " b'I love horror movies that brings out a real amount of mystery like say \"silent hill\" ( which i found to be quite good, but still, was missing something ) and movies that keeps you guessing, this i thought was one of those movies. At first the movie starts out with some really good suspense and builds up a good starting point for a good horror scene, but after that it just rolls down the hill and from there it only goes faster and faster down. I mentioned silent hill at first for a reason because i can see a lot of \"stolen\" themes from that movie in here.. All in all i would say, watch silent hill instead of this one, its better, its more scary, it has a lot more suspense and also the ending is a lot better.. And best of all, you wont feel ripped off as i did with this one.. This just seems to be one of those \"i like that movie so I\\'m gonna re-make it in my own really bad version\" kinda movie.. Oh and one more thing... Lordi.. in a horror movie... thats like trying to scare a kid with a care bear who has \"hug me and i will love you forever\" written on the stomach of it..'\n",
            " b'This British film is truly awful, and it\\'s hard to believe that Glenn Ford is in it, although he pretty much sleepwalks through it. The idea of a bomb on a train sounds good...but it turns out this train ends up parked for the majority of the film! No action, no movement, just a static train. The area where the train is parked is evacuated, so it\\'s not like there\\'s any danger to anyone either. In fact, this film could be used in a film class to show how NOT to make a suspense film. True suspense is generated by letting the audience know things that the characters don\\'t, a fact apparently unknown to the director. SPOILER: the train actually has two bombs on it, but we are led to believe there is only one. After the first bomb is defused, it feels as if there is no longer a reason to watch the film any more. But at the last minute, the villain, who has no apparent motivation for his actions, reveals there are two. Nor are we certain WHEN the bombs will go off, so we don\\'t even have a classic \"ticking bomb\" tension sequence. A good 10 minutes or more are spent watching Glenn Ford\\'s French wife thinking about leaving him, and then wondering where he is . She\\'s such an annoying character that we don\\'t care whether she reconciles with him, so when she does, there\\'s nothing emotional about it. Most of the other characters are fairly devoid of personality, and none have any problems or issues. It\\'s only 72 minutes, but it feels long because it\\'s tedious and dull. Don\\'t waste your time.'\n",
            " b\"When the Chamberlain family is camping near Ayers Rock, Australia, Lindy Chamberlain (Meryl Streep) sees her baby being dragged out of their tent by a dingo and then begins an ordeal that no one should have to experience. For it seems like the dingo story is not believed by the public or the press, and the whole thing turns into a circus. Lindy doesn't help matters either because she won't play to the jury or courtroom, she's only herself, and she's a tough nut to crack, so of course everyone thinks she's guilty because there's a piece of evidence that hasn't come to light. Sam Neill is excellent as Michael Chamberlain, a Seventh-Day adventist pastor, who has doubts about his faith and perhaps about his wife. It's good (or bad) to see that people are just as prejudiced and stupid elsewhere as they are in the States too, because the Australian public doesn't believe the story and the media only fans the flames. Eventually, Lindy is found guilty and sent to prison for a life of hard labor, but years later, a missing piece of evidence shows up and she's freed, but not until after the family's life is basically ruined. A heart-breaking story, very well done, a bit long but well worth seeing. 8 out of 10.\"\n",
            " b'boring stuff we got here. His 5 minute shorts are better than this. know why? because there only 5 minutes and not 91 minutes or how ever long this is. <br /><br />The plot is kinda... eh.. the last half hour is alright the rest is boring and not funny =( I had my hopes up, the trailer made it look funny but the pace of this movie is pretty slow and sadly not funny. Just plain boring klaymen running into each other and trying to make us laugh.. not working.<br /><br />Maybe next time knox.<br /><br />Maybe re-cutting this movie and adding better scenes would do a lot of healing but for now its just not good.'\n",
            " b\"Dull haunted house thriller finds an American family moving into a 200 year old house in Japan where a violent murder suicide love triangle occurred. <br /><br />Novel setting is about the only element of interest in this very slow moving horror flick by the director of Motel Hell. The film generates zero suspense and is composed of somewhat choppy scenes that rarely seem to be leading anywhere overall. <br /><br />One obvious example is a fairly early scene where the male lead visits a temple after realizing that his house is haunted as the monk had earlier warned. The monk recounts the history of the house (which the viewer is already familiar with from the opening sequence) and then the film simply cuts away to something else. Earlier the monk had offered to help. Well, where is the help? The family continues to stay in the haunted house as things get worse and worse and no mention of the monk is made until nearly the very end when he turns up again to do what he should have done an hour earlier--try to drive the spirits out of the house, although by this time it's difficult for the viewers to care.<br /><br />There are some (probably) unintentional campy laughs in seeing the American actors at the end become possessed by the Japanese spirits and suddenly start doing bad martial arts, I say probably because the scene is more than a little reminiscent of the chainsaw duel from the same director's Motel Hell which was more obviously meant to be amusing, but on the whole this is a forgettable dud.\"\n",
            " b\"Stan Laurel and Oliver Hardy had extensive (separate) film careers before they were eventually teamed. For many of Ollie's pre-Stan films, he was billed on screen as Babe Hardy ... and throughout his adult life, Hardy was known to his friends as 'Babe'. While touring postwar Britain with Laurel in a music-hall act for Bernard Delfont, Hardy gave an interview to journalist John McCabe in which he explained the origin of this nickname: early in his acting career, Hardy got a shave from a gay hairdresser who squeezed Hardy's plump cheeks (the ones on his face) and said 'Nice baby!' Hardy's workmates started crying him 'Babe', and the nickname stuck.<br /><br />Although much of Hardy's pre-Laurel work is very interesting -- notably his comedy roles in support of Larry Semon and the Chaplin imitator Billy West -- his teamwork with Billy Ruge (who?) in a series of low-budget shorts for the Vim Comedy Film Company is very dire indeed. Hardy and Ruge were given the screen names Plump and Runt: names which are unpleasant in their own right, but made worse because Ruge (although shorter than Hardy) isn't especially a runt. Seen here, Hardy looks much as he does in his early Hal Roach films with Laurel ... but without the spit curls and the fastidious little moustache.<br /><br />'One Too Many', an absolutely typical Plunt and Runt epic, is direly unfunny ... and its dreichness is made even more conspicuous by the fact that this film has exactly the same premise as 'That's My Wife', one of Laurel and Hardy's most hilarious films. Plump (Hardy) is the star boarder in a rooming-house run by a tall gawky landlady. Runt (Ruge) is the porter. Plump receives a letter from his wealthy uncle John, whose dosh he expects to inherit. His uncle is coming to see him and to meet Plump's wife and baby. There's only one problem: Plump hasn't got a wife and baby. He's been lying to his uncle in order to seem a family man. Now, of course, Plump expects Runt to find him a wife and baby on short notice. Of course, the results are disastrous. It would be nice if those disastrous results were funny, but they aren't. Most of the unfunny humour here is just empty slapstick, with characters settling their arguments by shoving each other into bathtubs.<br /><br />SPOILERS COMING. Vim director Will Louis (who?) shows no instinct for camera framing: the actress who plays the landlady is significantly taller than Hardy, and Louis consistently sets up his shots so that her head is out of frame. This could be funny if done on purpose, but it's merely inept. At one point in this bad comedy, an extremely tasteless gag is looming on the horizon as Runt approaches a black laundress. 'Surely they wouldn't stoop THAT low for a laugh,' I thought. But they do. Runt steals the woman's black infant and tries to fob this off as Plump's progeny.<br /><br />Somehow, Plump acquires an infant's cot, but he still hasn't got a baby. With Uncle John coming up the stairs, Plump conscripts Runt for babyhood. This gag might just possibly have worked with a midget, or even with a truly runt-sized actor such as Chester Conklin, but Billy Ruge is only slightly below average height. Ruge's impersonation of a baby is neither believable nor funny, and Uncle John would have to be a complete moron to fall for it. Amazingly, he does!<br /><br />The most notable aspect of 'One Too Many' is a brief appearance -- apparently her only-ever film appearance -- by Madelyn Saloshin, Oliver Hardy's first wife. The marriage was not a happy one, although Hardy's marital troubles never attained the epic proportions of Stan Laurel's. <br /><br />Only one thing in this movie impressed me. There is a very brief flashback sequence, with Hardy reminiscing about his seaside romance with a bathing beauty. In 1916, there was still not yet a standard film grammar for conveying flashbacks: the one shown here is done gracefully and simply. Too bad this movie has no other merits. 'One Too Many' is definitely one film too many on Oliver Hardy's CV, and I'll rate this movie just one point out of 10. Laurel and Hardy together are definitely much funnier than either of them separately.\"\n",
            " b'Yes, I\\'m sentimental & schmaltzy!! But this movie (and it\\'s theme song) remain one of my all time greats!! Robert Downey Jr. does such justice to the role of \"Louis Jeffries\" reincarnated and the storyline (although far-fetched) is romantic & makes one believe in happy endings!!'\n",
            " b'This is one of Joan Crawford\\'s best Talkies. It was the first Gable-Crawford pairing, and made it evident to MGM and to audiences that they were a sizzling team, leading the studio to make seven more films with them as co-stars.<br /><br />The film convincingly depicts the downward slide of a brother and sister who, after their father loses everything in the stock market crash, must fend for themselves and work for a living. Life is hard in the Depression, and soon even their attempts at finding legitimate work prove futile, and they resort to underworld activity. <br /><br />Joan Crawford is excellent as the socialite-turned-moll. She\\'s smart, complex, and believable. She even tempers the theatrical stiffness of the other actors\\' early Talkie acting style. Clark Gable is a diamond-in-the rough, masculine and gruff as the no-nonsense gangster who becomes involved with Crawford\\'s character. The same year he would play a similar and even more successful role opposite Norma Shearer in \"A Free Soul\", securing his position as top male sex symbol at MGM.<br /><br />If you like Crawford in this type of role, don\\'t miss \"Paid\", which she did a year earlier, which is also among her best early Talkie performances.<br /><br />'\n",
            " b\"An OUR GANG Comedy Short.<br /><br />The Gang coerces Spanky into watching their younger siblings. Caring for these FORGOTTEN BABIES turns out to be quite a chore, leaving the little nipper with no choice but to come up with some ingenious solutions to the baby-sitting problem...<br /><br />Spanky is in his glory in this hilarious little film, arguably his best. Highlight: Spanky's retelling the plot of the TARZAN movie he's recently seen to the audience of infants. Movie mavens will recognize Billy Gilbert's voice in the radio drama.\"\n",
            " b'I know, I know: it\\'s childish. But I just love this type of movie. A bird that suffered a lot of \"mishaps\" and still hasn\\'t lost his faith in humanity and his sense of humor. What\\'s special about this film is the fact that the main character is Paulie -the parrot- and he\\'s not used as a boost to some hotshot human actor. Furthermore I like the storyline: Paulie tells his lifestory to a cleaner at the point he hit rock bottom. (By the way: Jay Mohr\\'s voice almost sounds like Joe Pesci\\'s!). And Cheech Marin of course, the man IS humor to me. Ever since I saw \"Up in Smoke\" I have appreciated his naive way of performing, making a simple situation a hilarious one.. can\\'t help myself.'\n",
            " b'There\\'s a lot of good that can be said for this cartoon; the backgrounds are rich, lushly colored and full of nicely done art deco details. The animation is up to the usual studio standards of the time, which are unquestionably higher than those of the present day. However, I find it tedious for a number of reasons.<br /><br />The Music: It\\'s definitely not up to Scott Bradley\\'s usual standards. Although it\\'s probably supposed to be evocative of a \"Great Gatsby\" setting, it ends up being dreary, sleepy, repetitious AND monotonous (repetitious and monotonous are not the same, as Beethoven\\'s 5th Symphony attests). Since most people (including me) tend to close their eyes when they yawn, there\\'s a lot of the visual part of the cartoon that will be missed by the average viewer.<br /><br />The Storyline: I\\'m not giving away any secrets that aren\\'t already in the plot summary - country good, city bad. This is a common theme in films, both animated and live, from this era. It\\'s a misplaced nostalgia for a nonexistent rural idyll, which, in the present day, is reflected in a similar nostalgia for \"values\" that never were.'\n",
            " b\"I came here for a review last night before deciding which TV movie to settle in front of, and those I found made this one look unmissable. How misled I feel!<br /><br />Firstly, it needs to be pointed out up front that this is very much a housewife's daytime movie. The performances are wooden, every sentence is an attempt at 'poignant' in the way that housewife's daytime movies and bad soap operas always are, and it is based in that predictable and well-trodden premise that men (particularly soldiers) are essentially violent and incompassionate. The whole movie is about the 'drama' apparent in the moments when the male characters threaten to develop a second dimension.<br /><br />If that sounds tolerable (or even enjoyable) to you, then be warned. Linda Hamilton's German accent, while quite good, is painfully distracting - as is her face, for some reason. The other performances are no doubt an enduring source of embarrassment to their perpetrators, with painfully thin and obvious characterizations being the order of the day. There are few surprises, but do watch for the 'Monty Pythonesque' endless supply of food and drink that miraculously appears from the hungry soldiers' knapsacks!<br /><br />I wasn't expecting action, but I had hoped for beautiful or textural or emotionally charged. What I got was a particularly bad Christmas 'feelgood' story that will have an intelligent audience cringing with the crapulence of it all.<br /><br />Watch it under the folowing circumstances: 1: There's nothing else on. 2: You are a fan of predictable 'housewife takes on men and wins' TV movies. 3: The only way you can appreciate a true story is when Hollywood turns it into a feature film. 4: You've imbibed enough nog that your emotions are easily stirred by unsophisticated storytelling.\"\n",
            " b\"I went in expecting the movie to be completely dumb. With such a low expectation, any form of entertainment would be a pleasant surprise. The soundtrack was the best part of the movie, but poking fun at the nonsense that goes on in singles wards was also amusing.<br /><br />This said, there were many things about The Singles Ward that were completely annoying. The entire film was poorly dubbed and made watching mouths while listening to their voices very irritating. This lack of professionalism was surpassed only by the cameos of Mormon celebrities who have no business acting.<br /><br />This film will do well among Mormondom, especially in college communities where singles ward exist. However the conclusion will offer no hope for the poor losers who find themselves unmarried. (Only the pretty girls in the Singles Ward get married, the fat, ugly ones don't, but all the ugly men do) Ultimately we realize that the whole film was an advertisement for LDSSingles.com\"\n",
            " b'This movie was on the Romance channel, and I thought it might be a goofy 80\\'s movie that would be enjoyable on some level, so my brother and I watched it. Boy did it suck. Boy gets crush on girl--correction, his *dream*-girl (apparently there is a difference; and I\\'m surprised he realized she was his dream girl--he was smitten with her from over 30 feet away. I guess that just goes to show the power of dream-girls), boy ends up masquerading as a female to be near dream-girl (creative in the sense that it\\'s a far-out plan, but un-creative in the sense that there are probably better solutions one might think up), awkward situations ensue, a match is made (all of which takes seems to take place around late afternoon--either the location was somehow responsible for this odd lighting, or the actors had to wait until they got off of their day-jobs to come to the set; I suspect the latter). Very clumsily done, very pathetic. It\\'s almost never even amusing *accidentally*, so there really is nothing to redeem it. Unless you\\'re interested in seeing Chad Lowe\\'s early days, before he finally got his piece of the pie with his role as the HIV-positive gay guy on the series \"Life Goes On\", or Gail O\\'Grady who was on NYPD Blue and probably got to stare at Dennis Franz\\'s buttocks). But those are unlikely motives--I\\'d say \"systematic derangement of the senses\" would be a more justified purpose. I\\'m surprised I watched it all. I guess it\\'s the kind of thing where, halfway through, you find yourself *still* watching due to some morbid, self-flagellistic inner-issue, and think you might as well finish it so you can tell your friends and family that you actually sat through such a horrible movie, on the off-chance that it\\'ll garner you some sympathy for the questionable state of your mental health. Can *You* Take the Challenge?'\n",
            " b'I had numerous problems with this film.<br /><br />It contains some basic factual information concerning quantum mechanics, which is fine. Although quantum physics has been around for over 50 years, the film presents this information in a grandiose way that seems to be saying: \"Aren\\'t you just blown away by this!\" Well, not really. These aren\\'t earth shattering revelations anymore. At any rate, I was already familiar with quantum theory, and the fact that particles have to be described by wave equations, etc. is not new.<br /><br />The main problem I have with this movie, however, is the way these people use quantum theory as a way of providing a scientific basis for mysticism and spiritualism. I don\\'t have any serious problem with mysticism and spiritualism, but quantum mechanics doesn\\'t really have anything to do with these things, and it should be kept separate. The people they interviewed for this movie start with the ideas of quantum theory and then make the leap to say that simply by thinking about something you can alter the matter around you, hence we should think positively so as to have a positive impact on the world and make our lives better. The reasoning is completely ridiculous, and the conclusions do not logically follow from quantum theory. For every so called \"expert\" that they interviewed for this film, there are scores of theoretically physicists who would completely disagree. They would point out, quite rightly, that the unpredictability of the subatomic world does not lend support to mystical notions about our spiritual connectedness.<br /><br />It disturbs me that people are going to see this film and completely eat it up because it leaves them with a nice positive feeling. The main thrust of the film is based on a total misinterpretation of quantum theory, and it is as bad in its reasoning as any attempt to justify organized religion with similar pseudo-scientific arguments.<br /><br />Avoid this film.<br /><br />Oh yeah. At one point, one of the \"experts\" says that since throughout history most of the assumptions people have made about the world turned out to be false, therefore the assumptions we currently hold about the world are also likely to be false. Huh? That totally does not follow. And even if it did, I don\\'t see how that helps his argument. I mean, if his ideas ever became common assumptions then I guess we would have to assume that they are false too, based on his own reasoning.'\n",
            " b\"This movie makes Canadians and Brits out to be asinine, moronic idiots. The men get stoned/drunk, and then they yell/beat each other up in almost every scene. The women are superfluous to the story \\xc2\\x96 I do not understand what they are there for \\xc2\\x96 they spend every scene causing a ruckus, or worse, milling around like mesmerized cattle. Apparently, Canadian women are either quarrelsome vulgar tramps or hulking hippie chicks. It's the standard knocked-up girlfriend, her loser boyfriend and his wicked mother ludicrousness that we have seen in countless movies before.<br /><br />Every character here is a carping, infantile stereotype. Not to mention that they all looked like they need a shower! And the idea of any kind of scene implying sex with George Wendt \\xc2\\x96 shudder \\xc2\\x96 is enough to make anyone gag! I watched the movie because Samuel West was in it \\xc2\\x96 but I cannot understand why he would have accepted a role like this. Maybe he needed the money. Ian Tracey is a superb actor - the only one with a vague redeeming moment, but his talent is wasted here.<br /><br />As for the rest of the plot \\xc2\\x96 the three imbeciles trying to get their dope back \\xc2\\x96 yawn - or Karl \\xc2\\x96 who is dead, but who is actually a character very much alive in the minds of those left behind (almost like Rebecca in Alfred Hitchcock's masterpiece \\xc2\\x96 although I am ashamed to even have thought to compare these two films), why even bother? Karl is so galling that you find the circumstances of his death gratifying.<br /><br />By the end of this wretched movie, I thought they would all have been better off going down with him on that boat!\"\n",
            " b'Sistas in da hood. Looking for revenge and bling bling. Except da hood is a wild west town in the late 1800s. I do not remember any westerns like this when I was growing up. What would Randolph Scott say? If he saw Lil\\' Kim, he might say, \"Alright! I have to admit that I tuned into this just to see her. Bare midriffs and low cut blouses are not the staple of the usual cowboy flick, but these are the cowgirls, and they are fine.<br /><br />Now, don\\'t go looking for any major story here, and the usual stuff of ghetto crime drama are here in a different setting. And, when\\'s the last time you heard John Wayne call someone, \"Dawg\"? And, I don\\'t remember the Earp brothers hugging and kissing before they marched to the OK Corral.<br /><br />I watch this on BET, so I missed the action that got it an R rating, but I doubt if I will buy the DVD to see it unless I can be assured it was Lil\\' Kim in that action.'\n",
            " b\"Okay, let's face it. this is a god-awful movie. The plot (such as it is) is horrible, the acting worse. But the movie was made for one reason and one reason only, like all of those awful Mario Lanza movies...just to hear the voice of the star, in this case Pavarotti in his prime. Okay, so maybe the Lanza movies were also an excuse for him to hit on women, but this movie is about hearing Luciano. That alone is worth watching the movie. A big opera star stuck on himself faces his fears, finds humility and love along the way, and belts out a lot of hit numbers, too.<br /><br />I must admit I'm prejudiced on a number of levels. I'm Italian. I'm a big Pavarotti fan (is there anything about Pavarotti that isn't big, including his fan base?). And when I first saw this movie I was going out on my own, seeing the height and depth of Life's possibilities and in love for the first time. So as awful as this movie is, the beautiful voice and memories are enough to make me breathe deep of life and love again.<br /><br />Yes, it's corny and awful. But the voice is immortal and timeless, and the voice is what it's all about. So I give this movie a high rating in hopes that someone who has never heard Pavarotti before will listen and watch and enjoy a new level of music and love, especially since he is now gone. Like Italian food that you've never tried before, try it! You may be pleasantly surprised, as a Luciano lover or prospective Pavarotti peep.\"\n",
            " b'The Dukes of Hazzard will academy awards!! Best actor and actress 4 the persons who can say with a straight face that this was a great movie.<br /><br />This \"movie\" was a torture to watch. So sad how an weekly half hour entertainment was destroyed by these amateurs.The only good thing about this crap was the car! I remember when Daisy was a real threat to look 4ward 2. Who\\'s the moron that decided that Jessica Simpson is hot?! We know she can\\'t act but come on. In the TV show Daisy was a fox and brunette.<br /><br />All members who contributed in these waste of time please please please don\\'t even think about makin a sequel, a prequel or anything that\\'s got 2 do with a former TV show.<br /><br />I gave a empty DVD so this \"movie\" could be burned 4 me. I sat trough it and i want my money back!'\n",
            " b'I thought this movie was terrible. I\\'m Chinese, so I thought everything was totally wrong. Many of the facts were incorrect. The only thing right about Chinese history in the movie was when Wendy\\'s mother explained to her husband about the statues that guarded ShiHuangDi. I also thought the fight scenes were very cheesy and fake. Many of the actors and actresses were not very great. Some of the jokes that were supposedly \"funny\" were really stupid. I think this movie should receive the worst possible rating it could get. Disney has really got to get more information about Chinese history if they want to create an extravagant movie. Mulan was quite accurate. Watch this movie if you want to waste some time.']\n",
            "32\n",
            "\n",
            "______________\n",
            "\n",
            "[0 0 0 0 0 0 1 0 1 0 1 0 0 0 1 0 0 0 1 1 1 1 0 0 0 0 0 0 0 1 0 0]\n",
            "32\n"
          ]
        }
      ]
    },
    {
      "cell_type": "code",
      "source": [
        "for a, b in test:\n",
        "    for i in range(3):\n",
        "        print(a.numpy()[i])\n",
        "        print(b.numpy()[i])\n",
        "        print('\\n________\\n')"
      ],
      "metadata": {
        "colab": {
          "base_uri": "https://localhost:8080/"
        },
        "outputId": "85d0065a-94f3-4cc8-f32d-5654d91c5e35",
        "id": "x93ooENq010R"
      },
      "execution_count": 68,
      "outputs": [
        {
          "output_type": "stream",
          "name": "stdout",
          "text": [
            "b'Every scene was put together perfectly.This movie had a wonderful cast and crew. I mean, how can you have a bad movie with Robert Downey Jr. in it,none have and ever will exist. He has the ability to brighten up any movie with his amazing talent.This movie was perfect! I saw this movie sitting all alone on a movie shelf in \"Blockbuster\" and like it was calling out to me,I couldn\\'t resist picking it up and bringing it home with me. You can call me a sappy romantic, but this movie just touched my heart, not to mention made me laugh with pleasure at the same time. Even though it made me cry,I admit, at the end, the whole movie just brightened up my outlook on life thereafter.I suggested to my horror, action, and pure humor movie buff of a brother,who absolutely adored this movie. This is a movie with a good sense of feeling.It could make you laugh out loud, touch your heart, make you fall in love,and enjoy your life.Every time you purposefully walk past this movie, just be aware that you are consciously making the choice to live and feel this inspiring movie.Who knows? What if it could really happen to you?, and keep your mind open to the mystical wonders of life.'\n",
            "1\n",
            "\n",
            "________\n",
            "\n",
            "b\"Despite its low-key release in this country, and its apparent disregard in other countries (the 'R' rating in the States can't have helped - honestly, just because HBC uses the C-word!), this is actually a fine piece of work. The sentimentality does occasionally threaten to choke it, but it's overcome by the playing of the two leads.<br /><br />It's easy to win plaudits just because you're playing a physical or mental cripple (Daniel Day-Lewis, Geoffrey Rush, Dustin Hoffman, etc.), and Helena Bonham-Carter may not quite capture the physical degradation of MND, but her vocal stretching and ruthless emotional drive compensate entirely. In fact, almost all her performance is conducted through her eyes (and what eyes!). This is an intelligent turn from an actress who is rapidly undoing her English Rose reputation, and emerging as a figure of some stature. Awards must surely follow, though not, alas, for this fine performance.<br /><br />Branagh, one feels, has never quite given his best on film (except possibly 'Hamlet', and there his playing was diluted by the large cast). Here, though, he tops his other appearances, playing to the hilt a self-loathing, unstable, ultimately lovable guy with a subtlety he hasn't always displayed, and exhibiting both intelligence and depth. In short, we believe him, just as much as we could NOT believe him as Frankenstein, as the priest in 'The Proposition', as the lawyer in 'The Gingerbread Man', even as Andrew in 'Peter's Friends'. This is surely his finest performance yet - so why could he not produce the goods much earlier?<br /><br />As a film, it looks more like a television offering, and without its stars it probably wouldn't amount to very much. But it's been a pleasure to see this pair perform their socks off like this, and I eagerly await more from them (though not 'Love's Labour's Lost'...). 8 out of 10, but Branagh and HBC get 10 out of 10.\"\n",
            "1\n",
            "\n",
            "________\n",
            "\n",
            "b'This is probably the best television show I\\'ve ever seen. I first saw it on Comedy Central several years ago. At the time I was unaware that it had been dramatically edited and was shown out of order, and having just watched all three series in order and unedited (thank you internet and your wondrous \"series of tubes\") I am SO GLAD I rediscovered it! I think Comedy Central sort of picked and chose their way through series one and two to make a \"season\"......and I tried to get friends and family to watch it, but nobody really seemed to like it (I need new friends). So, on my own, I made the best out of it that I could. Even when I felt like it was waning a bit, I still felt compelled to continue watching. Years after when I discovered Little Britain, I immediately recognized Pauline from LoG as having influenced Marjorie in Fat Fighters. Also, I love the idea of writers who act the entire show....(not new, but done impeccably here). LB has nothing on LoG! (No offense, Matt & David....Love you)! This is indeed a darkly comedic piece of genius. Serial murder, implied cannibalism.....you name it and it\\'s probably found in this wonderful, unique piece of TV art. The location shots from the very first scene themselves are chilling and seem to beckon you to the town of Royston Vasey.....You\\'ll Never Leave! I think my favorite character would have to be Tubbs, but each character as portrayed has it\\'s own \"charm\". My least favorite was Papa Lazarous, that was until he re-surfaced in series three (clever and wholly unexpected)! It\\'s best to watch several episodes in a row as it drives the continuity and as I said before, becomes so compelling (while repulsing) that you really CAN\\'T stop watching. This is not for those with weak stomachs, kids, conservatives or Grandma (unless you\\'ve got one saucy granny)! I have always loved British TV, particularly comedies, from Monty Python to Benny Hill, Red Dwarf to Keeping Up Appearances, Absolutely Fabulous and the British originals Coupling and The Office (but not their US counterparts....sorry). This is unlike any of those in that it completely redraws the line between what\\'s funny and what\\'s just sick and twisted. Nothing, NOTHING on US TV has ever come close to this level of entertainment. US broadcast TV is so sad and lame, I can barely stand to watch ANY of it. It\\'s kind of sad that even our cable channels don\\'t have the guts to show unedited versions of this gem (your loss, Comedy Central). Thankfully there are shows like this one that come from the \"across the pond\" that redeem the entire medium every decade or so. Basic cable here in the US has been making tiny steps the last few years in confidently \"crossing lines\" with more graphic sexual content, drug use and adult language, but they are still years away from just deciding to be Adults about showing real life, adult behavior (instead of just murder obsession and blowing things up, sheesh, it\\'s like the same basic show format for the past 35 years)! Don\\'t even get me started on US sitcoms! Waste of time and lots of wasted money......did you know that \"According to Jim\" has been on the air for 10 years??? 10 YEARS?? Anyway... Watch this show, get it on DVD, do what you must and then make your friends watch it as well! You\\'ve never seen anything like it. There are three specials that I have not watched yet....I\\'m saving them to spring on my best friend next time he visits. He\\'ll watch them, even if I have to chain him up and paint him with Excrement! Lines and lines and lines and lines! Note that series three departs from one and two....the greater town seems to fall away to concentrate on newer characters, the laugh track is gone (thank bloody hell), the theme is more band and less orchestra and a bit of the story takes place outside of Royston Vasey. Don\\'t be thrown by any of that as by the end, the series has preserved the quiet perversity first demonstrated in series one and two. I think these four guys have created something sort of undefinable. Brilliant, confident and absolutely demented. You will want to re-watch it again and again. It\\'s amazing that in 5 seconds of screen time they can go from cheap sight-gag to horrifying blasphemy then end with a single actors close-up facial expression. If ever I were to meet any of the writer/performers, I\\'d implore them not to recreate it or try to top it.....I\\'d just say \"Can I help you at all?\" (Then they\\'d probably slap me, so I\\'d ask them to sign the slap-mark)! 10 out of 10'\n",
            "1\n",
            "\n",
            "________\n",
            "\n"
          ]
        }
      ]
    },
    {
      "cell_type": "code",
      "source": [
        "# each time `.take()` is called, a pointer is moved forward\n",
        "#. her were want to refresh the data to bring the pointer back to 0\n",
        "batch_size = 32\n",
        "seed = 42       # optional seed for random shuffling\n",
        "# note, the `shuffle` parameter defaults to True\n",
        "\n",
        "raw_train_ds = tf.keras.utils.text_dataset_from_directory(\n",
        "    'aclImdb/train',\n",
        "    batch_size=batch_size,\n",
        "    validation_split=0.2,\n",
        "    subset='training',\n",
        "    seed=seed\n",
        ")"
      ],
      "metadata": {
        "colab": {
          "base_uri": "https://localhost:8080/"
        },
        "outputId": "7de465c5-259d-4c23-84d1-8aecfedf7100",
        "id": "-28LC9dF00fc"
      },
      "execution_count": 71,
      "outputs": [
        {
          "output_type": "stream",
          "name": "stdout",
          "text": [
            "Found 25000 files belonging to 2 classes.\n",
            "Using 20000 files for training.\n"
          ]
        }
      ]
    },
    {
      "cell_type": "code",
      "source": [
        "for text_batch, label_batch in raw_train_ds.take(1):\n",
        "  for i in range(3):\n",
        "    print(\"Review\", text_batch.numpy()[i])\n",
        "    print(\"Label\", label_batch.numpy()[i])"
      ],
      "metadata": {
        "colab": {
          "base_uri": "https://localhost:8080/"
        },
        "id": "N_wQZ9QH2MEP",
        "outputId": "211cc17f-a5bc-442f-e682-e46108d84c61"
      },
      "execution_count": 72,
      "outputs": [
        {
          "output_type": "stream",
          "name": "stdout",
          "text": [
            "Review b'\"Pandemonium\" is a horror movie spoof that comes off more stupid than funny. Believe me when I tell you, I love comedies. Especially comedy spoofs. \"Airplane\", \"The Naked Gun\" trilogy, \"Blazing Saddles\", \"High Anxiety\", and \"Spaceballs\" are some of my favorite comedies that spoof a particular genre. \"Pandemonium\" is not up there with those films. Most of the scenes in this movie had me sitting there in stunned silence because the movie wasn\\'t all that funny. There are a few laughs in the film, but when you watch a comedy, you expect to laugh a lot more than a few times and that\\'s all this film has going for it. Geez, \"Scream\" had more laughs than this film and that was more of a horror film. How bizarre is that?<br /><br />*1/2 (out of four)'\n",
            "Label 0\n",
            "Review b\"David Mamet is a very interesting and a very un-equal director. His first movie 'House of Games' was the one I liked best, and it set a series of films with characters whose perspective of life changes as they get into complicated situations, and so does the perspective of the viewer.<br /><br />So is 'Homicide' which from the title tries to set the mind of the viewer to the usual crime drama. The principal characters are two cops, one Jewish and one Irish who deal with a racially charged area. The murder of an old Jewish shop owner who proves to be an ancient veteran of the Israeli Independence war triggers the Jewish identity in the mind and heart of the Jewish detective.<br /><br />This is were the flaws of the film are the more obvious. The process of awakening is theatrical and hard to believe, the group of Jewish militants is operatic, and the way the detective eventually walks to the final violent confrontation is pathetic. The end of the film itself is Mamet-like smart, but disappoints from a human emotional perspective.<br /><br />Joe Mantegna and William Macy give strong performances, but the flaws of the story are too evident to be easily compensated.\"\n",
            "Label 0\n",
            "Review b'Great documentary about the lives of NY firefighters during the worst terrorist attack of all time.. That reason alone is why this should be a must see collectors item.. What shocked me was not only the attacks, but the\"High Fat Diet\" and physical appearance of some of these firefighters. I think a lot of Doctors would agree with me that,in the physical shape they were in, some of these firefighters would NOT of made it to the 79th floor carrying over 60 lbs of gear. Having said that i now have a greater respect for firefighters and i realize becoming a firefighter is a life altering job. The French have a history of making great documentary\\'s and that is what this is, a Great Documentary.....'\n",
            "Label 1\n"
          ]
        }
      ]
    },
    {
      "cell_type": "markdown",
      "source": [
        "#### The classes\n",
        "\n",
        "The labels are 0 and 1. How do these correspond to the sentiment of movie reviews?"
      ],
      "metadata": {
        "id": "9OzDh-vw2b8w"
      }
    },
    {
      "cell_type": "code",
      "source": [
        "print('Label 0 corresponds to', raw_train_ds.class_names[0])\n",
        "print('Label 1 corresponds to', raw_train_ds.class_names[1])"
      ],
      "metadata": {
        "colab": {
          "base_uri": "https://localhost:8080/"
        },
        "id": "Y_sa9ijO2ozi",
        "outputId": "0f9e6cdc-930b-42b8-9ba3-946c0a08dd1e"
      },
      "execution_count": 77,
      "outputs": [
        {
          "output_type": "stream",
          "name": "stdout",
          "text": [
            "Label 0 corresponds to neg\n",
            "Label 1 corresponds to pos\n"
          ]
        }
      ]
    }
  ]
}